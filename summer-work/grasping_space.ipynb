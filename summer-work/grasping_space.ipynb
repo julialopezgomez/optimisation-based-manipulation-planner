{
 "cells": [
  {
   "cell_type": "code",
   "execution_count": 1,
   "metadata": {},
   "outputs": [],
   "source": [
    "# Cell 1: Import necessary libraries\n",
    "import numpy as np\n",
    "import os\n",
    "import time\n",
    "from pydrake.all import (\n",
    "    DiagramBuilder, AddMultibodyPlantSceneGraph, Parser, RigidTransform, RotationMatrix,\n",
    "    Role, MeshcatVisualizer, StartMeshcat, RationalForwardKinematics, CspaceFreePolytope,\n",
    "    SeparatingPlaneOrder, Rgba, InverseKinematics, RollPitchYaw,\n",
    "    LinearEqualityConstraint, Sphere, Parallelism, AddDefaultVisualization, \n",
    "    ConnectPlanarSceneGraphVisualizer, IrisFromCliqueCoverOptions, \n",
    "    IrisInConfigurationSpaceFromCliqueCover, RandomGenerator, RobotDiagramBuilder, \n",
    "    SceneGraphCollisionChecker, MultibodyPlant, SceneGraph, \n",
    "    SolverOptions, CommonSolverOption, GeometrySet, ScsSolver\n",
    ")\n",
    "from pydrake.geometry.optimization import GraphOfConvexSetsOptions, HPolyhedron, VPolytope, Point, Hyperellipsoid\n",
    "from pydrake.geometry.optimization import ConvexHull as DrakeConvexHull\n",
    "from pydrake.planning import GcsTrajectoryOptimization\n",
    "from pydrake.solvers import MathematicalProgram, Solve, MosekSolver\n",
    "from pydrake.trajectories import CompositeTrajectory\n",
    "from pydrake.common import FindResourceOrThrow\n",
    "from scipy.spatial import ConvexHull\n",
    "import mcubes\n",
    "from functools import partial\n",
    "import matplotlib.pyplot as plt\n",
    "from ipywidgets import widgets\n",
    "import quadprog\n",
    "\n",
    "from pathlib import Path\n",
    "import sys\n",
    "\n",
    "# add the parent directory of this notebook to the import path\n",
    "parent = Path.cwd().parent\n",
    "if str(parent) not in sys.path:\n",
    "    sys.path.insert(0, str(parent))\n",
    "\n",
    "from ciris_plant_visualizer import CIrisPlantVisualizer"
   ]
  },
  {
   "cell_type": "code",
   "execution_count": 2,
   "metadata": {},
   "outputs": [
    {
     "name": "stdout",
     "output_type": "stream",
     "text": [
      "Setting up the plant and scene graph...\n"
     ]
    }
   ],
   "source": [
    "# Cell 2: Set up the plant and scene graph, and initialize the CIrisPlantVisualizer\n",
    "# builder = DiagramBuilder()\n",
    "# plant, scene_graph = AddMultibodyPlantSceneGraph(builder, time_step=0.0)\n",
    "# parser = Parser(plant, scene_graph)\n",
    "# parser.SetAutoRenaming(True)\n",
    "\n",
    "print(\"Setting up the plant and scene graph...\")\n",
    "\n",
    "# Replace DiagramBuilder with RobotDiagramBuilder\n",
    "builder = RobotDiagramBuilder(time_step=0.0)\n",
    "plant = builder.plant()\n",
    "scene_graph = builder.scene_graph()\n",
    "parser = Parser(plant, scene_graph)\n",
    "parser.SetAutoRenaming(True)"
   ]
  },
  {
   "cell_type": "code",
   "execution_count": 3,
   "metadata": {},
   "outputs": [
    {
     "name": "stdout",
     "output_type": "stream",
     "text": [
      "Loading Panda robot models...\n",
      "Welding Panda arm and hand...\n",
      "Setting default finger joint positions...\n"
     ]
    }
   ],
   "source": [
    "# Add the robot\n",
    "# gripper = parser.AddModels(file_name=\"../my_sdfs/wsg_2dof.sdf\")[0]\n",
    "\n",
    "print(\"Loading Panda robot models...\")\n",
    "\n",
    "# --- Add the Panda arm + hand ---\n",
    "panda_arm  = parser.AddModels(url=\"package://drake_models/franka_description/urdf/panda_arm.urdf\")[0]\n",
    "panda_hand = parser.AddModels(url=\"package://drake_models/franka_description/urdf/panda_hand.urdf\")[0]\n",
    "\n",
    "print(\"Welding Panda arm and hand...\")\n",
    "\n",
    "# Weld arm base to world (identity)\n",
    "plant.WeldFrames(\n",
    "    plant.world_frame(),\n",
    "    plant.GetFrameByName(\"panda_link0\", panda_arm),\n",
    "    RigidTransform())\n",
    "\n",
    "# Weld hand to arm flange with X_PC: translation [0,0,0], RPY deg [0,0,-45]\n",
    "X_8H = RigidTransform(RollPitchYaw(0.0, 0.0, -np.deg2rad(45.0)), [0.0, 0.0, 0.0])\n",
    "plant.WeldFrames(\n",
    "    plant.GetFrameByName(\"panda_link8\", panda_arm),        # parent (P)\n",
    "    plant.GetFrameByName(\"panda_hand\", panda_hand),    # child  (C)\n",
    "    X_8H)\n",
    "\n",
    "print(\"Setting default finger joint positions...\")\n",
    "\n",
    "# Optional: set the default finger opening (each finger is a prismatic joint).\n",
    "# 0.02 m on each finger → ~0.04 m total width. Adjust to taste.\n",
    "for j in [\"panda_finger_joint1\", \"panda_finger_joint2\"]:\n",
    "    plant.GetJointByName(j, panda_hand).set_default_translation(0.02)"
   ]
  },
  {
   "cell_type": "code",
   "execution_count": 4,
   "metadata": {},
   "outputs": [
    {
     "name": "stdout",
     "output_type": "stream",
     "text": [
      "Adding the bottle cap and obstacles...\n"
     ]
    },
    {
     "data": {
      "text/plain": [
       "<WeldJoint name='world_welds_to_base_link' index=14 model_instance=4>"
      ]
     },
     "execution_count": 4,
     "metadata": {},
     "output_type": "execute_result"
    }
   ],
   "source": [
    "print(\"Adding the bottle cap and obstacles...\")\n",
    "\n",
    "cap = parser.AddModels(file_name=\"../my_sdfs/bottle_cap.sdf\")[0]\n",
    "# obstacle1 = parser.AddModels(\"../my_sdfs/obstacle.sdf\")[0]\n",
    "# # obstacle2 = parser.AddModels(\"my_sdfs/obstacle.sdf\")[0]\n",
    "# obstacle3 = parser.AddModels(\"../my_sdfs/obstacle.sdf\")[0]\n",
    "\n",
    "# Set welds\n",
    "plant.WeldFrames(\n",
    "    plant.world_frame(), \n",
    "    plant.GetFrameByName(\"base_link\", cap),\n",
    "    RigidTransform(RotationMatrix(), [0.5, 0, 0]))\n",
    "\n",
    "# # Weld the obstacle to the world frame (adjust pose as needed)\n",
    "# obstacle_pose1 = RigidTransform(RotationMatrix(), [0.51, 0.035, 0.02])  # Adjust position\n",
    "# plant.WeldFrames(\n",
    "#     plant.world_frame(),\n",
    "#     plant.GetFrameByName(\"obstacle_link\", obstacle1),\n",
    "#     obstacle_pose1)\n",
    "\n",
    "# # obstacle_pose2 = RigidTransform(RotationMatrix(), [-0.025, 0.05, 0.02])  # Adjust position\n",
    "# # plant.WeldFrames(\n",
    "# #     plant.world_frame(),\n",
    "# #     plant.GetFrameByName(\"obstacle_link\", obstacle2),\n",
    "# #     obstacle_pose2)\n",
    "\n",
    "# obstacle_pose3 = RigidTransform(RotationMatrix(), [0.465, -0.005, 0.02])  # Adjust position\n",
    "# plant.WeldFrames(\n",
    "#     plant.world_frame(),\n",
    "#     plant.GetFrameByName(\"obstacle_link\", obstacle3),\n",
    "#     obstacle_pose3)"
   ]
  },
  {
   "cell_type": "code",
   "execution_count": 5,
   "metadata": {},
   "outputs": [
    {
     "name": "stderr",
     "output_type": "stream",
     "text": [
      "INFO:drake:Meshcat listening for connections at http://localhost:7000\n"
     ]
    },
    {
     "name": "stdout",
     "output_type": "stream",
     "text": [
      "Finalising plant...\n",
      "Bodies: 16 Joints: 15\n",
      "Frames: 16 Geometries: 90\n",
      "Plant finalised.\n",
      "Number of positions:  10\n",
      "Initialising CspaceFreePolytope...\n",
      "Initializing CIrisPlantVisualizer...\n",
      "Visualisations won't work properly. Can't visualize the TC-Space of plants with more than 3-DOF. The first 3 DOF from the plant will be visualized\n",
      "Setting up the visualizer...\n"
     ]
    }
   ],
   "source": [
    "print(\"Finalising plant...\")\n",
    "print(\"Bodies:\", plant.num_bodies(), \"Joints:\", plant.num_joints())\n",
    "\n",
    "\n",
    "plant.Finalize()\n",
    "\n",
    "inspector = scene_graph.model_inspector()\n",
    "num_frames = len(list(inspector.GetAllFrameIds()))\n",
    "num_geoms = sum(inspector.NumGeometriesForFrame(fid) for fid in inspector.GetAllFrameIds())\n",
    "print(\"Frames:\", num_frames, \"Geometries:\", num_geoms)\n",
    "\n",
    "\n",
    "print(\"Plant finalised.\")\n",
    "\n",
    "print(\"Number of positions: \", plant.num_positions())\n",
    "\n",
    "# Cell 3: Initialize the CIrisPlantVisualizer\n",
    "q_star = np.zeros(plant.num_positions())\n",
    "\n",
    "\n",
    "print(\"Initialising CspaceFreePolytope...\")\n",
    "\n",
    "# The object we will use to perform our certification\n",
    "cspace_free_polytope = CspaceFreePolytope(\n",
    "    plant, \n",
    "    scene_graph,\n",
    "    SeparatingPlaneOrder.kAffine,\n",
    "    q_star)\n",
    "\n",
    "print(\"Initializing CIrisPlantVisualizer...\")\n",
    "\n",
    "visualizer = CIrisPlantVisualizer(\n",
    "    plant,\n",
    "    builder,\n",
    "    scene_graph,\n",
    "    cspace_free_polytope,\n",
    "    viz_role=Role.kIllustration,\n",
    "    allow_plus_3dof=True\n",
    ")\n",
    "\n",
    "print(\"Setting up the visualizer...\")\n",
    "\n",
    "visualizer.task_space_diagram.ForcedPublish(visualizer.task_space_diagram_context)\n"
   ]
  },
  {
   "cell_type": "code",
   "execution_count": 6,
   "metadata": {},
   "outputs": [
    {
     "data": {
      "application/vnd.jupyter.widget-view+json": {
       "model_id": "28979267050b4b45aa16c6b2e8f6ab9d",
       "version_major": 2,
       "version_minor": 0
      },
      "text/plain": [
       "FloatSlider(value=0.0, description='q0', max=2.8973, min=-2.8973, step=0.057946)"
      ]
     },
     "metadata": {},
     "output_type": "display_data"
    },
    {
     "data": {
      "application/vnd.jupyter.widget-view+json": {
       "model_id": "d1d22feb9ae8430dacb0030b6eccfa5d",
       "version_major": 2,
       "version_minor": 0
      },
      "text/plain": [
       "FloatSlider(value=0.0, description='q1', max=1.7628, min=-1.7628, step=0.035255999999999996)"
      ]
     },
     "metadata": {},
     "output_type": "display_data"
    },
    {
     "data": {
      "application/vnd.jupyter.widget-view+json": {
       "model_id": "8fb1386cdff7425f959c05263d08d77b",
       "version_major": 2,
       "version_minor": 0
      },
      "text/plain": [
       "FloatSlider(value=0.0, description='q2', max=2.8973, min=-2.8973, step=0.057946)"
      ]
     },
     "metadata": {},
     "output_type": "display_data"
    },
    {
     "data": {
      "application/vnd.jupyter.widget-view+json": {
       "model_id": "e1c2b69a86dc4d7eaa4b39a7fd0a575c",
       "version_major": 2,
       "version_minor": 0
      },
      "text/plain": [
       "FloatSlider(value=-0.0698, description='q3', max=-0.0698, min=-3.0718, step=0.03002)"
      ]
     },
     "metadata": {},
     "output_type": "display_data"
    },
    {
     "data": {
      "application/vnd.jupyter.widget-view+json": {
       "model_id": "98f81c78ce964edd99f78392446a253a",
       "version_major": 2,
       "version_minor": 0
      },
      "text/plain": [
       "FloatSlider(value=0.0, description='q4', max=2.8973, min=-2.8973, step=0.057946)"
      ]
     },
     "metadata": {},
     "output_type": "display_data"
    },
    {
     "data": {
      "application/vnd.jupyter.widget-view+json": {
       "model_id": "dd2745af62f94264a57f2725d1c7b4dd",
       "version_major": 2,
       "version_minor": 0
      },
      "text/plain": [
       "FloatSlider(value=0.0, description='q5', max=3.7525, min=-0.0175, step=0.0377)"
      ]
     },
     "metadata": {},
     "output_type": "display_data"
    },
    {
     "data": {
      "application/vnd.jupyter.widget-view+json": {
       "model_id": "ecf9e537cb2b4dcd9e7b12913abf305d",
       "version_major": 2,
       "version_minor": 0
      },
      "text/plain": [
       "FloatSlider(value=0.0, description='q6', max=2.8973, min=-2.8973, step=0.057946)"
      ]
     },
     "metadata": {},
     "output_type": "display_data"
    },
    {
     "data": {
      "application/vnd.jupyter.widget-view+json": {
       "model_id": "9af03fd804444399a9124fec03f70bc1",
       "version_major": 2,
       "version_minor": 0
      },
      "text/plain": [
       "FloatSlider(value=0.0, description='q7', max=0.0, min=-0.045, step=0.00045)"
      ]
     },
     "metadata": {},
     "output_type": "display_data"
    },
    {
     "data": {
      "application/vnd.jupyter.widget-view+json": {
       "model_id": "78b076dddf1d4fc1bf08114dca2b2fa9",
       "version_major": 2,
       "version_minor": 0
      },
      "text/plain": [
       "FloatSlider(value=0.0, description='q8', max=0.045, step=0.00045)"
      ]
     },
     "metadata": {},
     "output_type": "display_data"
    },
    {
     "data": {
      "application/vnd.jupyter.widget-view+json": {
       "model_id": "13274d47a2a648a59f856630c5138214",
       "version_major": 2,
       "version_minor": 0
      },
      "text/plain": [
       "FloatSlider(value=0.0, description='q9', max=3.14, min=-3.14, step=0.06280000000000001)"
      ]
     },
     "metadata": {},
     "output_type": "display_data"
    }
   ],
   "source": [
    "sliders = []\n",
    "\n",
    "plant_context = visualizer.plant_context\n",
    "diagram = visualizer.task_space_diagram\n",
    "diagram_context = visualizer.task_space_diagram_context\n",
    "\n",
    "for i in range(plant.num_positions()):\n",
    "    q_low = plant.GetPositionLowerLimits()[i]\n",
    "    q_high = plant.GetPositionUpperLimits()[i]\n",
    "    step = (q_high - q_low) / 100\n",
    "    sliders.append(widgets.FloatSlider(\n",
    "        min=q_low, max=q_high, \n",
    "        value=0, step=step, \n",
    "        description=f\"q{i}\"))\n",
    "    \n",
    "q = np.zeros(plant.num_positions())\n",
    "# q = [-3.14, -0.78, -0.03]\n",
    "def handle_slider_change(change, idx):\n",
    "    q[idx] = change['new']\n",
    "    # print(visualizer.check_collision_q_by_ik(q))\n",
    "    plant.SetPositions(plant_context, q)\n",
    "    diagram.ForcedPublish(diagram_context)\n",
    "    \n",
    "idx = 0\n",
    "for slider in sliders:\n",
    "    slider.observe(partial(handle_slider_change, idx = idx), names='value')\n",
    "    idx+=1\n",
    "\n",
    "for slider in sliders:\n",
    "    display(slider)"
   ]
  },
  {
   "cell_type": "markdown",
   "metadata": {},
   "source": [
    "## Get Grasping Configuration Through IK"
   ]
  },
  {
   "cell_type": "code",
   "execution_count": null,
   "metadata": {},
   "outputs": [],
   "source": []
  },
  {
   "cell_type": "markdown",
   "metadata": {},
   "source": [
    "## Grasping Configuration checker"
   ]
  },
  {
   "cell_type": "markdown",
   "metadata": {},
   "source": [
    "Hand frame must be located at a certain height range from the cap (and rotation, so a transform), fingers at an offset (also a range) and allow full rotation of gripper hand and cap"
   ]
  },
  {
   "cell_type": "code",
   "execution_count": null,
   "metadata": {},
   "outputs": [],
   "source": []
  },
  {
   "cell_type": "markdown",
   "metadata": {},
   "source": [
    "# Generate polytope with Iris-ZO"
   ]
  },
  {
   "cell_type": "code",
   "execution_count": null,
   "metadata": {},
   "outputs": [],
   "source": []
  },
  {
   "cell_type": "markdown",
   "metadata": {},
   "source": [
    "## Walk around grasping polytope"
   ]
  },
  {
   "cell_type": "code",
   "execution_count": null,
   "metadata": {},
   "outputs": [],
   "source": []
  },
  {
   "cell_type": "markdown",
   "metadata": {},
   "source": [
    "# Generate Grasping Space with Clique Covers and Iris-ZO"
   ]
  },
  {
   "cell_type": "code",
   "execution_count": null,
   "metadata": {},
   "outputs": [],
   "source": []
  },
  {
   "cell_type": "markdown",
   "metadata": {},
   "source": [
    "## Walk around entire grasping space"
   ]
  },
  {
   "cell_type": "code",
   "execution_count": null,
   "metadata": {},
   "outputs": [],
   "source": []
  },
  {
   "cell_type": "markdown",
   "metadata": {},
   "source": [
    "# Full code implementation"
   ]
  },
  {
   "cell_type": "code",
   "execution_count": null,
   "metadata": {},
   "outputs": [],
   "source": []
  },
  {
   "cell_type": "code",
   "execution_count": null,
   "metadata": {},
   "outputs": [],
   "source": []
  },
  {
   "cell_type": "code",
   "execution_count": null,
   "metadata": {},
   "outputs": [],
   "source": []
  },
  {
   "cell_type": "code",
   "execution_count": null,
   "metadata": {},
   "outputs": [],
   "source": []
  },
  {
   "cell_type": "code",
   "execution_count": null,
   "metadata": {},
   "outputs": [],
   "source": []
  }
 ],
 "metadata": {
  "kernelspec": {
   "display_name": "Python 3",
   "language": "python",
   "name": "python3"
  },
  "language_info": {
   "codemirror_mode": {
    "name": "ipython",
    "version": 3
   },
   "file_extension": ".py",
   "mimetype": "text/x-python",
   "name": "python",
   "nbconvert_exporter": "python",
   "pygments_lexer": "ipython3",
   "version": "3.12.3"
  }
 },
 "nbformat": 4,
 "nbformat_minor": 2
}
